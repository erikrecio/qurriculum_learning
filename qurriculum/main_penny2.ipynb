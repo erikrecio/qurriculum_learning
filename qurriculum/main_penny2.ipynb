{
 "cells": [
  {
   "cell_type": "code",
   "execution_count": 27,
   "metadata": {
    "tags": []
   },
   "outputs": [],
   "source": [
    "import numpy as np\n",
    "import pennylane as qml\n",
    "from pennylane import numpy as pnp\n",
    "from pennylane.optimize import NesterovMomentumOptimizer\n",
    "from shapely.geometry import Polygon, Point\n",
    "from matplotlib import pyplot as plt\n",
    "import multiprocessing as mp\n",
    "import time\n",
    "import warnings\n",
    "warnings.filterwarnings('ignore')"
   ]
  },
  {
   "cell_type": "code",
   "execution_count": 22,
   "metadata": {
    "tags": []
   },
   "outputs": [],
   "source": [
    "nqubits = 4         # Num qubits, min 4, always 2**num_layers qubits\n",
    "num_iters = 150      # Number of training iterations\n",
    "optimizer = \"Adam\"  # \"Adam\", \"Nesterov\"\n",
    "loss_type = \"cross-entropy\" # \"projectors\", \"cross-entropy\"\n",
    "with_bias = False    # Add a bias to the output of the quantum circuit\n",
    "balanced_classes = False     # True: Same number of datapoints for each class. False: We cover homologously the j1,j2 space \n",
    "random = True\n",
    "\n",
    "num_cpus_batch = 15\n",
    "num_cpus_train = 30\n",
    "\n",
    "# Data hyper-parameters\n",
    "num_data = 100      # How many ground states do we want?\n",
    "num_train = 75      # Ground states that will be used for training\n",
    "batch_size = 20     # batch training size\n",
    "\n",
    "# Tweak hyper-parameters\n",
    "max_weight_init = 0.01  # weight_init goes from 0 to this number. Max = 2*np.pi. Other options = 0.01\n",
    "stepsize = 0.02         # stepsize of the gradient descent.\n",
    "\n",
    "# Constant definitions\n",
    "layers = int(np.log2(nqubits))\n",
    "nweights = 30*(layers-1) + 15\n",
    "rng = np.random"
   ]
  },
  {
   "cell_type": "code",
   "execution_count": 3,
   "metadata": {
    "jupyter": {
     "source_hidden": true
    },
    "tags": []
   },
   "outputs": [],
   "source": [
    "def X(i):\n",
    "    return qml.PauliX(i)\n",
    "\n",
    "def Z(i):\n",
    "    return qml.PauliZ(i)"
   ]
  },
  {
   "cell_type": "markdown",
   "metadata": {
    "jp-MarkdownHeadingCollapsed": true,
    "tags": []
   },
   "source": [
    "# Gound states"
   ]
  },
  {
   "cell_type": "code",
   "execution_count": 4,
   "metadata": {},
   "outputs": [],
   "source": [
    "def ground_state(j1, j2):\n",
    "    \n",
    "    hamiltonian = 0\n",
    "    for i in range(nqubits):\n",
    "        hamiltonian += Z(i)\n",
    "        hamiltonian -= j1 * X(i) @ X((i+1)%nqubits)\n",
    "        hamiltonian -= j2 * X((i-1)%nqubits) @ Z(i) @ X((i+1)%nqubits)\n",
    "    \n",
    "    _, eigvecs = np.linalg.eigh(qml.matrix(hamiltonian))\n",
    "    \n",
    "    return eigvecs[:,0]"
   ]
  },
  {
   "cell_type": "code",
   "execution_count": 5,
   "metadata": {},
   "outputs": [],
   "source": [
    "# Definir las coordenadas de los puntos de cada región\n",
    "region01_coords = np.array([(-2, 1), (2, 1), (4, 3), (4, 4), (-4, 4), (-4, 3)])    # Class 0\n",
    "region02_coords = np.array([(-3, -4), (0, -1), (3, -4)])                           # Class 0\n",
    "region1_coords = np.array([(0, -1), (3, -4), (4, -4), (4, 3)])                     # Class 1\n",
    "region2_coords = np.array([(0, -1), (-3, -4), (-4, -4), (-4, 3)])                  # Class 2\n",
    "region3_coords = np.array([(-2, 1), (2, 1), (0, -1)])                              # Class 3\n",
    "\n",
    "def labeling(x, y):\n",
    "\n",
    "    # Crear objetos Polygon para cada región\n",
    "    region01_poly = Polygon(region01_coords)\n",
    "    region02_poly = Polygon(region02_coords)\n",
    "    region1_poly = Polygon(region1_coords)\n",
    "    region2_poly = Polygon(region2_coords)\n",
    "    region3_poly = Polygon(region3_coords)\n",
    "    \n",
    "    \n",
    "    punto = Point(x, y)\n",
    "    if region01_poly.contains(punto):\n",
    "        return 0\n",
    "    elif region02_poly.contains(punto):\n",
    "        return 0\n",
    "    elif region1_poly.contains(punto):\n",
    "        return 1\n",
    "    elif region2_poly.contains(punto):\n",
    "        return 2\n",
    "    elif region3_poly.contains(punto):\n",
    "        return 3\n",
    "    else:\n",
    "        return None # Si el punto no está en ninguna región"
   ]
  },
  {
   "cell_type": "code",
   "execution_count": 6,
   "metadata": {},
   "outputs": [],
   "source": [
    "if not random:\n",
    "    rng = np.random.RandomState(0)\n",
    "\n",
    "if balanced_classes:\n",
    "    \n",
    "    npoints_class = num_data//4\n",
    "    num_data = 4*npoints_class\n",
    "    j_list = []\n",
    "    num_0, num_1, num_2, num_3 = 0, 0, 0, 0\n",
    "\n",
    "    while num_0 != npoints_class or num_1 != npoints_class or num_2 != npoints_class or num_3 != npoints_class:\n",
    "        j = rng.uniform(-4, 4, 2)\n",
    "        l = labeling(j[0], j[1])\n",
    "\n",
    "        if l==0 and num_0 < npoints_class:\n",
    "            num_0 += 1\n",
    "            j_list.append(j)\n",
    "        elif l==1 and num_1 < npoints_class:\n",
    "            num_1 += 1\n",
    "            j_list.append(j)\n",
    "        elif l==2 and num_2 < npoints_class:\n",
    "            num_2 += 1\n",
    "            j_list.append(j)\n",
    "        elif l==3 and num_3 < npoints_class:\n",
    "            num_3 += 1\n",
    "            j_list.append(j)\n",
    "\n",
    "    j_list = np.array(j_list)\n",
    "    \n",
    "else:\n",
    "    j_list = rng.uniform(-4, 4, (num_data,2))\n",
    "\n",
    "\n",
    "gs_list = []\n",
    "labels_list = []\n",
    "for i in range(num_data):\n",
    "    gs_list.append(ground_state(j_list[i,0], j_list[i,1]))\n",
    "    labels_list.append(labeling(j_list[i,0], j_list[i,1]))\n",
    "\n",
    "gs_list = np.array(gs_list)\n",
    "labels_list = np.array(labels_list)"
   ]
  },
  {
   "cell_type": "code",
   "execution_count": 7,
   "metadata": {},
   "outputs": [
    {
     "name": "stdout",
     "output_type": "stream",
     "text": [
      "(100, 16)\n"
     ]
    }
   ],
   "source": [
    "print(gs_list.shape)"
   ]
  },
  {
   "cell_type": "markdown",
   "metadata": {
    "tags": []
   },
   "source": [
    "# CNN"
   ]
  },
  {
   "cell_type": "code",
   "execution_count": 8,
   "metadata": {
    "jupyter": {
     "source_hidden": true
    },
    "tags": []
   },
   "outputs": [],
   "source": [
    "def convolutional_layer(q1, q2, weights):\n",
    "    qml.U3(wires=q1, theta=weights[0], phi=weights[1], delta=weights[2])\n",
    "    qml.U3(wires=q1, theta=weights[3], phi=weights[4], delta=weights[5])\n",
    "    qml.CNOT(wires=[q2, q1])\n",
    "    qml.RZ(wires=q1, phi=weights[6])\n",
    "    qml.RY(wires=q2, phi=weights[7])\n",
    "    qml.CNOT(wires=[q1, q2])\n",
    "    qml.RY(wires=q2, phi=weights[8])\n",
    "    qml.CNOT(wires=[q2, q1])\n",
    "    qml.U3(wires=q1, theta=weights[9], phi=weights[10], delta=weights[11])\n",
    "    qml.U3(wires=q1, theta=weights[12], phi=weights[13], delta=weights[14])\n",
    "\n",
    "def pooling_layer(q1, q2, weights):\n",
    "    qml.U3(wires=q1, theta=weights[0], phi=weights[1], delta=weights[2])\n",
    "    qml.U3(wires=q1, theta=weights[3], phi=weights[4], delta=weights[5])\n",
    "    qml.CNOT(wires=[q2, q1])\n",
    "    qml.RZ(wires=q1, phi=weights[6])\n",
    "    qml.RY(wires=q2, phi=weights[7])\n",
    "    qml.CNOT(wires=[q1, q2])\n",
    "    qml.RY(wires=q2, phi=weights[8])\n",
    "    qml.CNOT(wires=[q2, q1])\n",
    "    qml.U3(wires=q1, theta=weights[9], phi=weights[10], delta=weights[11])\n",
    "    qml.U3(wires=q1, theta=weights[12], phi=weights[13], delta=weights[14])"
   ]
  },
  {
   "cell_type": "code",
   "execution_count": 24,
   "metadata": {},
   "outputs": [],
   "source": [
    "def cnn_circuit(weights, state_ini):\n",
    "    \n",
    "    qubits = list(range(nqubits))\n",
    "    \n",
    "    qml.QubitStateVector(state_ini, wires=qubits)\n",
    "\n",
    "    for j in range(layers-1):\n",
    "        \n",
    "        len_qubits = len(qubits)\n",
    "        \n",
    "        for i in range(len_qubits//2):\n",
    "            convolutional_layer(qubits[2*i], qubits[(2*i+1)%len_qubits], weights[15*2*j:15*(2*j+1)])\n",
    "        \n",
    "        for i in range(len_qubits//2):\n",
    "            convolutional_layer(qubits[2*i+1], qubits[(2*i+2)%len_qubits], weights[15*2*j:15*(2*j+1)])\n",
    "            \n",
    "        for i in range(len_qubits//2):\n",
    "            pooling_layer(qubits[2*i], qubits[(2*i+1)%len_qubits], weights[15*(2*j+1):15*(2*j+2)])\n",
    "\n",
    "        qub = []\n",
    "        for i in range(len_qubits):\n",
    "            if i%2 == 1:\n",
    "                qub.append(qubits[i])\n",
    "                \n",
    "        qubits = qub\n",
    "    \n",
    "    convolutional_layer(qubits[0], qubits[1], weights[15*(2*layers-2):15*(2*layers-1)])\n",
    "    \n",
    "    return qml.expval(Z(qubits[0])), qml.expval(Z(qubits[1])), qml.expval(Z(qubits[0]) @ Z(qubits[1]))\n",
    "\n",
    "# dev_draw = qml.device(\"qiskit.aer\", wires=nqubits)\n",
    "dev = qml.device(\"default.qubit\", wires=nqubits)\n",
    "\n",
    "# cnn_draw = qml.QNode(cnn_circuit, dev_draw)\n",
    "cnn_circuit = qml.QNode(cnn_circuit, dev, interface=\"auto\", diff_method=\"best\")\n",
    "\n",
    "\n",
    "def cnn(weights, state_ini):\n",
    "    z0, z1, zz01 = cnn_circuit(weights, state_ini)\n",
    "\n",
    "    proj_00 = (1+zz01+z0+z1)/4\n",
    "    proj_01 = (1-zz01-z0+z1)/4\n",
    "    proj_10 = (1-zz01+z0-z1)/4\n",
    "    proj_11 = (1+zz01-z0-z1)/4\n",
    "\n",
    "    return pnp.array([proj_00, proj_01, proj_10, proj_11])"
   ]
  },
  {
   "cell_type": "code",
   "execution_count": 10,
   "metadata": {
    "jupyter": {
     "source_hidden": true
    },
    "tags": []
   },
   "outputs": [],
   "source": [
    "def variational_classifier(weights, bias, state_ini):\n",
    "    return cnn(weights, state_ini) + bias"
   ]
  },
  {
   "cell_type": "code",
   "execution_count": 11,
   "metadata": {
    "jupyter": {
     "source_hidden": true
    },
    "tags": []
   },
   "outputs": [
    {
     "name": "stdout",
     "output_type": "stream",
     "text": [
      "0: ─╭QubitStateVector(M0)──U3(1.43,4.63,4.39)──U3(1.71,2.19,0.23)─╭X──RZ(3.84)─╭●───────────╭X\n",
      "1: ─├QubitStateVector(M0)─────────────────────────────────────────╰●──RY(6.20)─╰X──RY(6.21)─╰●\n",
      "2: ─├QubitStateVector(M0)──U3(1.43,4.63,4.39)──U3(1.71,2.19,0.23)─╭X──RZ(3.84)─╭●───────────╭X\n",
      "3: ─╰QubitStateVector(M0)─────────────────────────────────────────╰●──RY(6.20)─╰X──RY(6.21)─╰●\n",
      "\n",
      "───U3(1.33,4.10,0.77)──U3(4.63,5.28,0.72)─────────────────────────────────────────────────\n",
      "───U3(1.43,4.63,4.39)──U3(1.71,2.19,0.23)─╭X──RZ(3.84)─╭●───────────╭X──U3(1.33,4.10,0.77)\n",
      "───U3(1.33,4.10,0.77)──U3(4.63,5.28,0.72)─╰●──RY(6.20)─╰X──RY(6.21)─╰●────────────────────\n",
      "───U3(1.43,4.63,4.39)──U3(1.71,2.19,0.23)─────────────────────────────────────────────────\n",
      "\n",
      "──────────────────────╭●──RY(6.20)─╭X──RY(6.21)─╭●──U3(3.18,1.28,4.11)──U3(2.31,3.74,3.97)─╭X\n",
      "───U3(4.63,5.28,0.72)─│────────────│────────────│──────────────────────────────────────────╰●\n",
      "──────────────────────│────────────│────────────│───U3(3.18,1.28,4.11)──U3(2.31,3.74,3.97)─╭X\n",
      "──────────────────────╰X──RZ(3.84)─╰●───────────╰X──U3(1.33,4.10,0.77)──U3(4.63,5.28,0.72)─╰●\n",
      "\n",
      "───RZ(1.37)─╭●───────────╭X──U3(3.36,0.52,2.86)──U3(0.20,3.73,1.14)─────────────────────────────\n",
      "───RY(5.12)─╰X──RY(3.91)─╰●──U3(0.66,3.80,0.78)──U3(1.08,5.91,5.35)─╭X──RZ(3.93)─╭●───────────╭X\n",
      "───RZ(1.37)─╭●───────────╭X──U3(3.36,0.52,2.86)──U3(0.20,3.73,1.14)─│────────────│────────────│─\n",
      "───RY(5.12)─╰X──RY(3.91)─╰●─────────────────────────────────────────╰●──RY(3.49)─╰X──RY(2.08)─╰●\n",
      "\n",
      "──────────────────────────────────────────┤            \n",
      "───U3(2.28,5.82,4.77)──U3(5.71,0.34,2.58)─┤  <Z> ╭<Z@Z>\n",
      "──────────────────────────────────────────┤      │     \n",
      "──────────────────────────────────────────┤  <Z> ╰<Z@Z>\n",
      "M0 = \n",
      "[-3.98824656e-01+0.j  0.00000000e+00+0.j -1.11022302e-16+0.j\n",
      "  1.35756268e-01+0.j  4.29325795e-17+0.j -4.96034563e-01+0.j\n",
      "  1.35756268e-01+0.j -1.50446287e-17+0.j -6.17151213e-17+0.j\n",
      "  1.35756268e-01+0.j -4.96034563e-01+0.j  1.61230667e-17+0.j\n",
      "  1.35756268e-01+0.j -1.88591622e-17+0.j  2.37521339e-17+0.j\n",
      "  5.24518122e-01+0.j]\n"
     ]
    }
   ],
   "source": [
    "weights = np.random.uniform(0, 2*np.pi, nweights)\n",
    "drawer = qml.draw(cnn_circuit)\n",
    "print(drawer(weights, gs_list[0]))\n",
    "\n",
    "# z0, z1, zz01 = cnn_draw(gs_list[0], weights)\n",
    "# print(z0, z1, zz01)\n",
    "# dev_draw._circuit.draw(output=\"mpl\")"
   ]
  },
  {
   "cell_type": "markdown",
   "metadata": {
    "jp-MarkdownHeadingCollapsed": true,
    "tags": []
   },
   "source": [
    "# Loss and accuracy"
   ]
  },
  {
   "cell_type": "code",
   "execution_count": 12,
   "metadata": {
    "tags": []
   },
   "outputs": [],
   "source": [
    "def log2_arraybox(abox):\n",
    "    return pnp._np.numpy_boxes.ArrayBox(value = np.log2(abox._value), trace = abox._trace, node = abox._node)\n",
    "\n",
    "\n",
    "def exp_arraybox(abox):\n",
    "    return pnp._np.numpy_boxes.ArrayBox(value = np.exp(abox._value), trace = abox._trace, node = abox._node)\n",
    "\n",
    "\n",
    "def single_loss(weights, bias, ground_state, label):\n",
    "    \n",
    "    proj = variational_classifier(weights, bias, ground_state)\n",
    "\n",
    "    if loss_type == \"projectors\":\n",
    "            cost = proj[label]\n",
    "\n",
    "    elif loss_type == \"cross-entropy\":\n",
    "        \n",
    "            if isinstance(proj[label], pnp._np.numpy_boxes.ArrayBox):\n",
    "                cost = -log2_arraybox(proj[label])\n",
    "            else:\n",
    "                cost = -np.log2(proj[label])\n",
    "    \n",
    "    return cost\n",
    "\n",
    "\n",
    "def loss(weights, bias, ground_states, labels):\n",
    "    \n",
    "    if num_cpus_train == 0:\n",
    "        cost = 0\n",
    "\n",
    "        for j in range(len(labels)):\n",
    "            cost += single_loss(weights, bias, ground_states[j], labels[j])\n",
    "    \n",
    "    else:\n",
    "        args = [[weights, bias, ground_states[j], labels[j]] for j in range(len(labels))]\n",
    "\n",
    "        with mp.Pool(num_cpus_train) as pool:\n",
    "            cost_arr = pool.starmap(single_loss, args)\n",
    "\n",
    "        cost = sum(cost_arr)\n",
    "    \n",
    "    return cost/len(labels)"
   ]
  },
  {
   "cell_type": "code",
   "execution_count": 13,
   "metadata": {
    "tags": []
   },
   "outputs": [
    {
     "name": "stdout",
     "output_type": "stream",
     "text": [
      "1.9832740875075714\n"
     ]
    }
   ],
   "source": [
    "weights_init = pnp.random.uniform(0, max_weight_init, nweights, requires_grad=True)\n",
    "bias_init = pnp.array([0.0]*4, requires_grad=True)\n",
    "\n",
    "print(loss(weights_init, bias_init, gs_list, labels_list))"
   ]
  },
  {
   "cell_type": "code",
   "execution_count": 14,
   "metadata": {
    "tags": []
   },
   "outputs": [],
   "source": [
    "def pred_acc(weights, bias, ground_states, labels):\n",
    "    accuracy_data = 0\n",
    "    predictions = []\n",
    "\n",
    "    for j in range(len(labels)):\n",
    "        projectors = variational_classifier(weights, bias, ground_states[j])\n",
    "        \n",
    "        if loss_type == \"projectors\":\n",
    "            pred = np.argmin(projectors)\n",
    "        elif loss_type == \"cross-entropy\":\n",
    "            pred = np.argmax(projectors)\n",
    "\n",
    "        accuracy_data += 1 if pred == labels[j] else 0\n",
    "        predictions.append(pred)\n",
    "            \n",
    "    return predictions, accuracy_data*100/len(labels)"
   ]
  },
  {
   "cell_type": "markdown",
   "metadata": {},
   "source": [
    "# Training"
   ]
  },
  {
   "cell_type": "code",
   "execution_count": 25,
   "metadata": {
    "tags": []
   },
   "outputs": [
    {
     "name": "stdout",
     "output_type": "stream",
     "text": [
      "Iter:     1 | Loss: 2.0145747 | Acc train: 22.6666667 | Acc validation: 12.0000000\n",
      "Iter:     2 | Loss: 2.0121013 | Acc train: 22.6666667 | Acc validation: 12.0000000\n",
      "Iter:     3 | Loss: 2.0155443 | Acc train: 22.6666667 | Acc validation: 12.0000000\n",
      "Iter:     4 | Loss: 2.0164778 | Acc train: 22.6666667 | Acc validation: 12.0000000\n",
      "Iter:     5 | Loss: 2.0160430 | Acc train: 22.6666667 | Acc validation: 12.0000000\n",
      "Iter:     6 | Loss: 2.0112021 | Acc train: 22.6666667 | Acc validation: 12.0000000\n",
      "Iter:     7 | Loss: 2.0001913 | Acc train: 22.6666667 | Acc validation: 12.0000000\n",
      "Iter:     8 | Loss: 1.9959602 | Acc train: 22.6666667 | Acc validation: 12.0000000\n",
      "Iter:     9 | Loss: 1.9954168 | Acc train: 22.6666667 | Acc validation: 12.0000000\n",
      "Iter:    10 | Loss: 1.9946161 | Acc train: 22.6666667 | Acc validation: 12.0000000\n",
      "Iter:    11 | Loss: 1.9893059 | Acc train: 22.6666667 | Acc validation: 12.0000000\n",
      "Iter:    12 | Loss: 1.9859749 | Acc train: 22.6666667 | Acc validation: 12.0000000\n",
      "Iter:    13 | Loss: 1.9683000 | Acc train: 22.6666667 | Acc validation: 12.0000000\n",
      "Iter:    14 | Loss: 1.9642192 | Acc train: 22.6666667 | Acc validation: 12.0000000\n",
      "Iter:    15 | Loss: 1.9611605 | Acc train: 22.6666667 | Acc validation: 12.0000000\n",
      "Iter:    16 | Loss: 1.9598361 | Acc train: 22.6666667 | Acc validation: 12.0000000\n",
      "Iter:    17 | Loss: 1.9526249 | Acc train: 22.6666667 | Acc validation: 12.0000000\n",
      "Iter:    18 | Loss: 1.9442136 | Acc train: 22.6666667 | Acc validation: 12.0000000\n",
      "Iter:    19 | Loss: 1.9432898 | Acc train: 22.6666667 | Acc validation: 12.0000000\n",
      "Iter:    20 | Loss: 1.9361891 | Acc train: 22.6666667 | Acc validation: 12.0000000\n",
      "Iter:    21 | Loss: 1.9385100 | Acc train: 22.6666667 | Acc validation: 12.0000000\n",
      "Iter:    22 | Loss: 1.9365405 | Acc train: 22.6666667 | Acc validation: 12.0000000\n",
      "Iter:    23 | Loss: 1.9299313 | Acc train: 24.0000000 | Acc validation: 12.0000000\n",
      "Iter:    24 | Loss: 1.9285644 | Acc train: 24.0000000 | Acc validation: 12.0000000\n",
      "Iter:    25 | Loss: 1.9283647 | Acc train: 25.3333333 | Acc validation: 12.0000000\n",
      "Iter:    26 | Loss: 1.9290032 | Acc train: 24.0000000 | Acc validation: 12.0000000\n",
      "Iter:    27 | Loss: 1.9257272 | Acc train: 24.0000000 | Acc validation: 12.0000000\n",
      "Iter:    28 | Loss: 1.9240166 | Acc train: 25.3333333 | Acc validation: 12.0000000\n",
      "Iter:    29 | Loss: 1.9178633 | Acc train: 25.3333333 | Acc validation: 12.0000000\n",
      "Iter:    30 | Loss: 1.9198777 | Acc train: 26.6666667 | Acc validation: 12.0000000\n",
      "Iter:    31 | Loss: 1.9120375 | Acc train: 26.6666667 | Acc validation: 12.0000000\n",
      "Iter:    32 | Loss: 1.9085219 | Acc train: 26.6666667 | Acc validation: 12.0000000\n",
      "Iter:    33 | Loss: 1.9106975 | Acc train: 26.6666667 | Acc validation: 12.0000000\n",
      "Iter:    34 | Loss: 1.9014304 | Acc train: 26.6666667 | Acc validation: 12.0000000\n",
      "Iter:    35 | Loss: 1.9010676 | Acc train: 26.6666667 | Acc validation: 12.0000000\n",
      "Iter:    36 | Loss: 1.9054866 | Acc train: 26.6666667 | Acc validation: 12.0000000\n",
      "Iter:    37 | Loss: 1.9006274 | Acc train: 26.6666667 | Acc validation: 12.0000000\n",
      "Iter:    38 | Loss: 1.9002516 | Acc train: 26.6666667 | Acc validation: 12.0000000\n",
      "Iter:    39 | Loss: 1.8955229 | Acc train: 26.6666667 | Acc validation: 12.0000000\n",
      "Iter:    40 | Loss: 1.8964770 | Acc train: 26.6666667 | Acc validation: 12.0000000\n",
      "Iter:    41 | Loss: 1.8930858 | Acc train: 26.6666667 | Acc validation: 12.0000000\n",
      "Iter:    42 | Loss: 1.8951949 | Acc train: 26.6666667 | Acc validation: 12.0000000\n",
      "Iter:    43 | Loss: 1.8943039 | Acc train: 26.6666667 | Acc validation: 12.0000000\n",
      "Iter:    44 | Loss: 1.8896855 | Acc train: 26.6666667 | Acc validation: 12.0000000\n",
      "Iter:    45 | Loss: 1.8911852 | Acc train: 26.6666667 | Acc validation: 12.0000000\n",
      "Iter:    46 | Loss: 1.8909696 | Acc train: 24.0000000 | Acc validation: 12.0000000\n",
      "Iter:    47 | Loss: 1.8947640 | Acc train: 24.0000000 | Acc validation: 12.0000000\n",
      "Iter:    48 | Loss: 1.8920919 | Acc train: 25.3333333 | Acc validation: 12.0000000\n",
      "Iter:    49 | Loss: 1.8892688 | Acc train: 25.3333333 | Acc validation: 12.0000000\n",
      "Iter:    50 | Loss: 1.8870662 | Acc train: 25.3333333 | Acc validation: 12.0000000\n",
      "Iter:    51 | Loss: 1.8876835 | Acc train: 26.6666667 | Acc validation: 12.0000000\n",
      "Iter:    52 | Loss: 1.8849039 | Acc train: 25.3333333 | Acc validation: 12.0000000\n",
      "Iter:    53 | Loss: 1.8834756 | Acc train: 25.3333333 | Acc validation: 12.0000000\n",
      "Iter:    54 | Loss: 1.8896951 | Acc train: 25.3333333 | Acc validation: 12.0000000\n",
      "Iter:    55 | Loss: 1.8901998 | Acc train: 25.3333333 | Acc validation: 12.0000000\n",
      "Iter:    56 | Loss: 1.8933529 | Acc train: 25.3333333 | Acc validation: 12.0000000\n",
      "Iter:    57 | Loss: 1.8901839 | Acc train: 25.3333333 | Acc validation: 12.0000000\n",
      "Iter:    58 | Loss: 1.8917155 | Acc train: 24.0000000 | Acc validation: 12.0000000\n",
      "Iter:    59 | Loss: 1.9008557 | Acc train: 25.3333333 | Acc validation: 12.0000000\n",
      "Iter:    60 | Loss: 1.9010139 | Acc train: 24.0000000 | Acc validation: 12.0000000\n",
      "Iter:    61 | Loss: 1.9068039 | Acc train: 24.0000000 | Acc validation: 12.0000000\n",
      "Iter:    62 | Loss: 1.8985658 | Acc train: 25.3333333 | Acc validation: 12.0000000\n",
      "Iter:    63 | Loss: 1.8978658 | Acc train: 25.3333333 | Acc validation: 12.0000000\n",
      "Iter:    64 | Loss: 1.8985529 | Acc train: 26.6666667 | Acc validation: 12.0000000\n",
      "Iter:    65 | Loss: 1.8986589 | Acc train: 26.6666667 | Acc validation: 12.0000000\n",
      "Iter:    66 | Loss: 1.8929713 | Acc train: 26.6666667 | Acc validation: 12.0000000\n",
      "Iter:    67 | Loss: 1.9006065 | Acc train: 26.6666667 | Acc validation: 12.0000000\n",
      "Iter:    68 | Loss: 1.8985523 | Acc train: 26.6666667 | Acc validation: 12.0000000\n",
      "Iter:    69 | Loss: 1.9021982 | Acc train: 28.0000000 | Acc validation: 12.0000000\n",
      "Iter:    70 | Loss: 1.8995229 | Acc train: 28.0000000 | Acc validation: 12.0000000\n",
      "Iter:    71 | Loss: 1.8967096 | Acc train: 28.0000000 | Acc validation: 12.0000000\n",
      "Iter:    72 | Loss: 1.9033033 | Acc train: 26.6666667 | Acc validation: 12.0000000\n",
      "Iter:    73 | Loss: 1.9019229 | Acc train: 26.6666667 | Acc validation: 12.0000000\n",
      "Iter:    74 | Loss: 1.8977938 | Acc train: 26.6666667 | Acc validation: 12.0000000\n",
      "Iter:    75 | Loss: 1.8968824 | Acc train: 26.6666667 | Acc validation: 12.0000000\n",
      "Iter:    76 | Loss: 1.8929674 | Acc train: 28.0000000 | Acc validation: 12.0000000\n",
      "Iter:    77 | Loss: 1.8837730 | Acc train: 28.0000000 | Acc validation: 12.0000000\n",
      "Iter:    78 | Loss: 1.8893009 | Acc train: 28.0000000 | Acc validation: 12.0000000\n",
      "Iter:    79 | Loss: 1.8892587 | Acc train: 28.0000000 | Acc validation: 12.0000000\n",
      "Iter:    80 | Loss: 1.8977625 | Acc train: 28.0000000 | Acc validation: 12.0000000\n",
      "Iter:    81 | Loss: 1.8935804 | Acc train: 28.0000000 | Acc validation: 12.0000000\n",
      "Iter:    82 | Loss: 1.8960400 | Acc train: 28.0000000 | Acc validation: 12.0000000\n",
      "Iter:    83 | Loss: 1.8958718 | Acc train: 28.0000000 | Acc validation: 12.0000000\n",
      "Iter:    84 | Loss: 1.8905528 | Acc train: 29.3333333 | Acc validation: 12.0000000\n",
      "Iter:    85 | Loss: 1.8888825 | Acc train: 29.3333333 | Acc validation: 12.0000000\n",
      "Iter:    86 | Loss: 1.8892083 | Acc train: 28.0000000 | Acc validation: 12.0000000\n",
      "Iter:    87 | Loss: 1.8868560 | Acc train: 28.0000000 | Acc validation: 12.0000000\n",
      "Iter:    88 | Loss: 1.8893946 | Acc train: 28.0000000 | Acc validation: 12.0000000\n",
      "Iter:    89 | Loss: 1.8898252 | Acc train: 29.3333333 | Acc validation: 16.0000000\n",
      "Iter:    90 | Loss: 1.8876979 | Acc train: 29.3333333 | Acc validation: 12.0000000\n",
      "Iter:    91 | Loss: 1.8850271 | Acc train: 29.3333333 | Acc validation: 12.0000000\n",
      "Iter:    92 | Loss: 1.8763575 | Acc train: 29.3333333 | Acc validation: 12.0000000\n",
      "Iter:    93 | Loss: 1.8786958 | Acc train: 30.6666667 | Acc validation: 12.0000000\n",
      "Iter:    94 | Loss: 1.8800309 | Acc train: 33.3333333 | Acc validation: 16.0000000\n",
      "Iter:    95 | Loss: 1.8753645 | Acc train: 32.0000000 | Acc validation: 16.0000000\n",
      "Iter:    96 | Loss: 1.8766933 | Acc train: 32.0000000 | Acc validation: 20.0000000\n",
      "Iter:    97 | Loss: 1.8753456 | Acc train: 33.3333333 | Acc validation: 20.0000000\n",
      "Iter:    98 | Loss: 1.8516186 | Acc train: 33.3333333 | Acc validation: 20.0000000\n",
      "Iter:    99 | Loss: 1.8533221 | Acc train: 33.3333333 | Acc validation: 20.0000000\n",
      "Iter:   100 | Loss: 1.8487868 | Acc train: 34.6666667 | Acc validation: 20.0000000\n",
      "Iter:   101 | Loss: 1.8423965 | Acc train: 34.6666667 | Acc validation: 20.0000000\n",
      "Iter:   102 | Loss: 1.8408245 | Acc train: 36.0000000 | Acc validation: 20.0000000\n",
      "Iter:   103 | Loss: 1.8379107 | Acc train: 37.3333333 | Acc validation: 20.0000000\n",
      "Iter:   104 | Loss: 1.8377936 | Acc train: 37.3333333 | Acc validation: 20.0000000\n",
      "Iter:   105 | Loss: 1.8458250 | Acc train: 41.3333333 | Acc validation: 24.0000000\n",
      "Iter:   106 | Loss: 1.8493965 | Acc train: 42.6666667 | Acc validation: 28.0000000\n",
      "Iter:   107 | Loss: 1.8317241 | Acc train: 40.0000000 | Acc validation: 20.0000000\n",
      "Iter:   108 | Loss: 1.8443166 | Acc train: 42.6666667 | Acc validation: 28.0000000\n",
      "Iter:   109 | Loss: 1.8427589 | Acc train: 42.6666667 | Acc validation: 32.0000000\n",
      "Iter:   110 | Loss: 1.8737906 | Acc train: 44.0000000 | Acc validation: 40.0000000\n",
      "Iter:   111 | Loss: 1.8956466 | Acc train: 44.0000000 | Acc validation: 44.0000000\n",
      "Iter:   112 | Loss: 1.9319564 | Acc train: 45.3333333 | Acc validation: 48.0000000\n",
      "Iter:   113 | Loss: 1.9898621 | Acc train: 46.6666667 | Acc validation: 48.0000000\n",
      "Iter:   114 | Loss: 2.0288933 | Acc train: 46.6666667 | Acc validation: 48.0000000\n",
      "Iter:   115 | Loss: 2.0493079 | Acc train: 46.6666667 | Acc validation: 48.0000000\n",
      "Iter:   116 | Loss: 2.0778368 | Acc train: 46.6666667 | Acc validation: 44.0000000\n",
      "Iter:   117 | Loss: 2.0809262 | Acc train: 46.6666667 | Acc validation: 44.0000000\n",
      "Iter:   118 | Loss: 2.0484207 | Acc train: 46.6666667 | Acc validation: 48.0000000\n",
      "Iter:   119 | Loss: 2.0697100 | Acc train: 46.6666667 | Acc validation: 44.0000000\n",
      "Iter:   120 | Loss: 2.0681099 | Acc train: 46.6666667 | Acc validation: 44.0000000\n",
      "Iter:   121 | Loss: 2.0080365 | Acc train: 46.6666667 | Acc validation: 48.0000000\n",
      "Iter:   122 | Loss: 2.0824493 | Acc train: 46.6666667 | Acc validation: 44.0000000\n",
      "Iter:   123 | Loss: 2.0809338 | Acc train: 46.6666667 | Acc validation: 44.0000000\n",
      "Iter:   124 | Loss: 2.0958225 | Acc train: 46.6666667 | Acc validation: 44.0000000\n",
      "Iter:   125 | Loss: 2.0434367 | Acc train: 46.6666667 | Acc validation: 44.0000000\n",
      "Iter:   126 | Loss: 2.0697114 | Acc train: 48.0000000 | Acc validation: 44.0000000\n",
      "Iter:   127 | Loss: 2.0246743 | Acc train: 48.0000000 | Acc validation: 44.0000000\n",
      "Iter:   128 | Loss: 1.9540660 | Acc train: 49.3333333 | Acc validation: 44.0000000\n",
      "Iter:   129 | Loss: 1.8333542 | Acc train: 52.0000000 | Acc validation: 40.0000000\n",
      "Iter:   130 | Loss: 1.8420244 | Acc train: 52.0000000 | Acc validation: 40.0000000\n",
      "Iter:   131 | Loss: 1.9131182 | Acc train: 50.6666667 | Acc validation: 40.0000000\n",
      "Iter:   132 | Loss: 1.8283307 | Acc train: 52.0000000 | Acc validation: 40.0000000\n",
      "Iter:   133 | Loss: 1.6718947 | Acc train: 52.0000000 | Acc validation: 48.0000000\n",
      "Iter:   134 | Loss: 1.6626880 | Acc train: 52.0000000 | Acc validation: 48.0000000\n",
      "Iter:   135 | Loss: 1.7580186 | Acc train: 52.0000000 | Acc validation: 40.0000000\n",
      "Iter:   136 | Loss: 1.7145960 | Acc train: 52.0000000 | Acc validation: 44.0000000\n",
      "Iter:   137 | Loss: 1.7323003 | Acc train: 52.0000000 | Acc validation: 40.0000000\n",
      "Iter:   138 | Loss: 1.7477721 | Acc train: 50.6666667 | Acc validation: 40.0000000\n",
      "Iter:   139 | Loss: 1.7144686 | Acc train: 52.0000000 | Acc validation: 40.0000000\n",
      "Iter:   140 | Loss: 1.7350894 | Acc train: 50.6666667 | Acc validation: 40.0000000\n",
      "Iter:   141 | Loss: 1.7697181 | Acc train: 48.0000000 | Acc validation: 44.0000000\n",
      "Iter:   142 | Loss: 1.7086797 | Acc train: 49.3333333 | Acc validation: 40.0000000\n",
      "Iter:   143 | Loss: 1.6813569 | Acc train: 49.3333333 | Acc validation: 40.0000000\n",
      "Iter:   144 | Loss: 1.7276986 | Acc train: 49.3333333 | Acc validation: 40.0000000\n",
      "Iter:   145 | Loss: 1.7971508 | Acc train: 46.6666667 | Acc validation: 44.0000000\n",
      "Iter:   146 | Loss: 1.7072887 | Acc train: 49.3333333 | Acc validation: 40.0000000\n",
      "Iter:   147 | Loss: 1.6123145 | Acc train: 49.3333333 | Acc validation: 44.0000000\n",
      "Iter:   148 | Loss: 1.5501077 | Acc train: 49.3333333 | Acc validation: 44.0000000\n",
      "Iter:   149 | Loss: 1.4903355 | Acc train: 52.0000000 | Acc validation: 52.0000000\n",
      "Iter:   150 | Loss: 1.4531385 | Acc train: 53.3333333 | Acc validation: 56.0000000\n",
      "--- 627.7050004005432 seconds ---\n"
     ]
    }
   ],
   "source": [
    "if not random:\n",
    "    rng = np.random.RandomState(0)\n",
    "\n",
    "# Splitting the data into training and validation\n",
    "index = rng.permutation(range(num_data))\n",
    "\n",
    "gs_train = gs_list[index[:num_train]]\n",
    "labels_train = labels_list[index[:num_train]]\n",
    "gs_val = gs_list[index[num_train:]]\n",
    "labels_val = labels_list[index[num_train:]]\n",
    "\n",
    "# We need these later for plotting\n",
    "j_train = j_list[index[:num_train]]\n",
    "j_val = j_list[index[num_train:]]\n",
    "\n",
    "# weights and bias initialization\n",
    "weights_init = pnp.random.uniform(0, max_weight_init, nweights, requires_grad=True)\n",
    "\n",
    "if with_bias:\n",
    "    bias_init = pnp.array([0.0]*4, requires_grad=True)\n",
    "else:\n",
    "    bias_init = np.array([0.0]*4)\n",
    "\n",
    "# train the variational classifier\n",
    "if optimizer == \"Nesterov\":\n",
    "    opt = NesterovMomentumOptimizer(stepsize)\n",
    "elif optimizer == \"Adam\":\n",
    "    opt = qml.AdamOptimizer(stepsize)\n",
    "    \n",
    "    \n",
    "weights = []\n",
    "bias = []\n",
    "losses = []\n",
    "pred_train_arr = []\n",
    "pred_val_arr = []\n",
    "acc_train_arr = []\n",
    "acc_val_arr = []\n",
    "\n",
    "w = weights_init\n",
    "b = bias_init\n",
    "\n",
    "start_time = time.time()\n",
    "\n",
    "for it in range(num_iters):\n",
    "\n",
    "    batch_index = np.random.randint(0, num_train, (batch_size,))\n",
    "    gs_train_batch = gs_train[batch_index]\n",
    "    labels_train_batch = labels_train[batch_index]\n",
    "    \n",
    "    # Update the weights by one optimizer step\n",
    "    if num_cpus_batch == 0:\n",
    "        w, b, _, _ = opt.step(loss, w, b, gs_train_batch, labels_train_batch)\n",
    "        \n",
    "    else:\n",
    "        args = [[single_loss, w, b, gs_train_batch[j], labels_train_batch[j]] for j in range(len(labels_train_batch))]\n",
    "\n",
    "        with mp.Pool(num_cpus_batch) as pool:\n",
    "            w, b, _, _ = zip(*pool.starmap(opt.step, args))\n",
    "\n",
    "        w = sum(w)/len(w)\n",
    "        b = sum(b)/len(b)\n",
    "    \n",
    "    weights.append(w)\n",
    "    bias.append(b)\n",
    "    \n",
    "    # Compute predictions and accuracy on train and validation set\n",
    "    pred_train, acc_train = pred_acc(w, b, gs_train, labels_train)\n",
    "    pred_val, acc_val = pred_acc(w, b, gs_val, labels_val) if len(labels_val)>0 else [0, 0]\n",
    "\n",
    "    # Save prediction for later plotting\n",
    "    pred_train_arr.append(pred_train)\n",
    "    pred_val_arr.append(pred_val)\n",
    "    acc_train_arr.append(acc_train)\n",
    "    acc_val_arr.append(acc_val)\n",
    "\n",
    "    l = loss(w, b, gs_train, labels_train)\n",
    "    losses.append(l)\n",
    "\n",
    "    print(\n",
    "        \"Iter: {:5d} | Loss: {:0.7f} | Acc train: {:0.7f} | Acc validation: {:0.7f}\"\n",
    "        \"\".format(it+1, l, acc_train, acc_val)\n",
    "    )\n",
    "\n",
    "print(f\"--- {time.time() - start_time} seconds ---\")"
   ]
  },
  {
   "cell_type": "markdown",
   "metadata": {},
   "source": [
    "# Plotting"
   ]
  },
  {
   "cell_type": "code",
   "execution_count": 26,
   "metadata": {
    "tags": []
   },
   "outputs": [
    {
     "data": {
      "image/png": "[encoded data removed]",
      "text/plain": [
       "<Figure size 640x480 with 2 Axes>"
      ]
     },
     "metadata": {},
     "output_type": "display_data"
    }
   ],
   "source": [
    "iterations = range(1, len(acc_train_arr)+1)\n",
    "\n",
    "fig, ax1 = plt.subplots()\n",
    "\n",
    "color1 = 'darkred'\n",
    "ax1.set_xlabel('Iterations')\n",
    "ax1.set_ylabel('Accuracy %', color=color1)\n",
    "ax1.plot(iterations, acc_train_arr, label=\"Training\", color=color1)\n",
    "ax1.plot(iterations, acc_val_arr, '-.', label=\"Validation\", color=color1)\n",
    "ax1.tick_params(axis='y', labelcolor=color1)\n",
    "ax1.set_ylim(0,100)\n",
    "\n",
    "ax2 = ax1.twinx()  # instantiate a second axes that shares the same x-axis\n",
    "\n",
    "color2 = 'darkblue'\n",
    "ax2.set_ylabel('Loss', color=color2)  # we already handled the x-label with ax1\n",
    "ax2.plot(iterations, losses, label=\"Loss\", color=color2)\n",
    "ax2.tick_params(axis='y', labelcolor=color2)\n",
    "# ax2.set_ylim(bottom=0)\n",
    "\n",
    "fig.tight_layout()  # otherwise the right y-label is slightly clipped\n",
    "# plt.legend()\n",
    "plt.title(\"Accuracy and Loss\")\n",
    "plt.show()"
   ]
  },
  {
   "cell_type": "code",
   "execution_count": 19,
   "metadata": {},
   "outputs": [
    {
     "ename": "IndexError",
     "evalue": "list index out of range",
     "output_type": "error",
     "traceback": [
      "\u001b[0;31m---------------------------------------------------------------------------\u001b[0m",
      "\u001b[0;31mIndexError\u001b[0m                                Traceback (most recent call last)",
      "Cell \u001b[0;32mIn[19], line 19\u001b[0m\n\u001b[1;32m     16\u001b[0m plt\u001b[38;5;241m.\u001b[39mfill(x2, y2, facecolor\u001b[38;5;241m=\u001b[39m\u001b[38;5;124m'\u001b[39m\u001b[38;5;124msalmon\u001b[39m\u001b[38;5;124m'\u001b[39m)            \u001b[38;5;66;03m# class 2\u001b[39;00m\n\u001b[1;32m     17\u001b[0m plt\u001b[38;5;241m.\u001b[39mfill(x3, y3, facecolor\u001b[38;5;241m=\u001b[39m\u001b[38;5;124m'\u001b[39m\u001b[38;5;124mlightgreen\u001b[39m\u001b[38;5;124m'\u001b[39m)        \u001b[38;5;66;03m# class 3\u001b[39;00m\n\u001b[0;32m---> 19\u001b[0m pred_train_plot \u001b[38;5;241m=\u001b[39m np\u001b[38;5;241m.\u001b[39marray(\u001b[43mpred_train_arr\u001b[49m\u001b[43m[\u001b[49m\u001b[43mplot_iter\u001b[49m\u001b[38;5;241;43m-\u001b[39;49m\u001b[38;5;241;43m1\u001b[39;49m\u001b[43m]\u001b[49m)\n\u001b[1;32m     20\u001b[0m pred_val_plot \u001b[38;5;241m=\u001b[39m np\u001b[38;5;241m.\u001b[39marray(pred_val_arr[plot_iter\u001b[38;5;241m-\u001b[39m\u001b[38;5;241m1\u001b[39m])\n\u001b[1;32m     22\u001b[0m colors \u001b[38;5;241m=\u001b[39m [\u001b[38;5;124m\"\u001b[39m\u001b[38;5;124mb\u001b[39m\u001b[38;5;124m\"\u001b[39m, \u001b[38;5;124m\"\u001b[39m\u001b[38;5;124morange\u001b[39m\u001b[38;5;124m\"\u001b[39m, \u001b[38;5;124m\"\u001b[39m\u001b[38;5;124mr\u001b[39m\u001b[38;5;124m\"\u001b[39m, \u001b[38;5;124m\"\u001b[39m\u001b[38;5;124mg\u001b[39m\u001b[38;5;124m\"\u001b[39m]\n",
      "\u001b[0;31mIndexError\u001b[0m: list index out of range"
     ]
    },
    {
     "data": {
      "image/png": "[encoded data removed]",
      "text/plain": [
       "<Figure size 640x480 with 1 Axes>"
      ]
     },
     "metadata": {},
     "output_type": "display_data"
    }
   ],
   "source": [
    "plot_iter = it+1 #it+1\n",
    "\n",
    "# define regions coordinates\n",
    "x01, y01 = region01_coords[:,0], region01_coords[:,1]\n",
    "x02, y02 = region02_coords[:,0], region02_coords[:,1]\n",
    "x1, y1 = region1_coords[:,0], region1_coords[:,1]\n",
    "x2, y2 = region2_coords[:,0], region2_coords[:,1]\n",
    "x3, y3 = region3_coords[:,0], region3_coords[:,1]\n",
    "\n",
    "# plt.figure(figsize=(8, 8))\n",
    "\n",
    "# put the regions into the plot\n",
    "plt.fill(x01, y01, facecolor='lightskyblue')    # class 0\n",
    "plt.fill(x02, y02, facecolor='lightskyblue')    # class 0\n",
    "plt.fill(x1, y1, facecolor='sandybrown')        # class 1\n",
    "plt.fill(x2, y2, facecolor='salmon')            # class 2\n",
    "plt.fill(x3, y3, facecolor='lightgreen')        # class 3\n",
    "\n",
    "pred_train_plot = np.array(pred_train_arr[plot_iter-1])\n",
    "pred_val_plot = np.array(pred_val_arr[plot_iter-1])\n",
    "\n",
    "colors = [\"b\", \"orange\", \"r\", \"g\"]\n",
    "\n",
    "# plot datapoints\n",
    "for i in range(4):\n",
    "    plt.scatter(\n",
    "        j_train[:, 0][pred_train_plot==i],\n",
    "        j_train[:, 1][pred_train_plot==i],\n",
    "        c=colors[i],\n",
    "        marker=\"o\",\n",
    "        edgecolors=\"k\",\n",
    "        label=f\"class {i+1} train\",\n",
    "    )\n",
    "    plt.scatter(\n",
    "        j_val[:, 0][pred_val_plot==i],\n",
    "        j_val[:, 1][pred_val_plot==i],\n",
    "        c=colors[i],\n",
    "        marker=\"^\",\n",
    "        edgecolors=\"k\",\n",
    "        label=f\"class {i+1} validation\",\n",
    "    )\n",
    "\n",
    "\n",
    "# plt.legend()\n",
    "plt.axis('square')\n",
    "plt.show()\n"
   ]
  },
  {
   "cell_type": "code",
   "execution_count": null,
   "metadata": {},
   "outputs": [],
   "source": [
    "print(mp.cpu_count())\n",
    "\n",
    "for i in range(10, 20, 1):\n",
    "    num_cpus = i\n",
    "    start_time = time.time()\n",
    "    loss(w, b, gs_train, labels_train)\n",
    "    print(f\"{i} --- {time.time() - start_time} seconds ---\")"
   ]
  }
 ],
 "metadata": {
  "kernelspec": {
   "display_name": "Python 3 (ipykernel)",
   "language": "python",
   "name": "python3"
  },
  "language_info": {
   "codemirror_mode": {
    "name": "ipython",
    "version": 3
   },
   "file_extension": ".py",
   "mimetype": "text/x-python",
   "name": "python",
   "nbconvert_exporter": "python",
   "pygments_lexer": "ipython3",
   "version": "3.8.10"
  }
 },
 "nbformat": 4,
 "nbformat_minor": 4
}
