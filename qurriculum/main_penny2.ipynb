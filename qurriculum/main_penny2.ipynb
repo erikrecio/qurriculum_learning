{
 "cells": [
  {
   "cell_type": "code",
   "execution_count": 16,
   "metadata": {
    "tags": []
   },
   "outputs": [],
   "source": [
    "import numpy as np\n",
    "import pennylane as qml\n",
    "from pennylane import numpy as pnp\n",
    "from pennylane.optimize import NesterovMomentumOptimizer\n",
    "from shapely.geometry import Polygon, Point\n",
    "from matplotlib import pyplot as plt\n",
    "import multiprocessing as mp\n",
    "import time\n",
    "import warnings\n",
    "warnings.filterwarnings('ignore')"
   ]
  },
  {
   "cell_type": "code",
   "execution_count": 17,
   "metadata": {
    "tags": []
   },
   "outputs": [],
   "source": [
    "nqubits = 4         # Num qubits, min 4, always 2**num_layers qubits\n",
    "num_iters = 150      # Number of training iterations\n",
    "optimizer = \"Adam\"  # \"Adam\", \"Nesterov\"\n",
    "loss_type = \"cross-entropy\" # \"projectors\", \"cross-entropy\"\n",
    "with_bias = False    # Add a bias to the output of the quantum circuit\n",
    "balanced_classes = False     # True: Same number of datapoints for each class. False: We cover homologously the j1,j2 space \n",
    "random = True\n",
    "\n",
    "num_cpus_batch = 0\n",
    "num_cpus_train = 0\n",
    "\n",
    "# Data hyper-parameters\n",
    "num_data = 100      # How many ground states do we want?\n",
    "num_train = 75      # Ground states that will be used for training\n",
    "batch_size = 20     # batch training size\n",
    "\n",
    "# Tweak hyper-parameters\n",
    "max_weight_init = 0.01  # weight_init goes from 0 to this number. Max = 2*np.pi. Other options = 0.01\n",
    "stepsize = 0.02         # stepsize of the gradient descent.\n",
    "\n",
    "# Constant definitions\n",
    "layers = int(np.log2(nqubits))\n",
    "nweights = 30*(layers-1) + 15\n",
    "rng = np.random"
   ]
  },
  {
   "cell_type": "code",
   "execution_count": 18,
   "metadata": {
    "jupyter": {
     "source_hidden": true
    },
    "tags": []
   },
   "outputs": [],
   "source": [
    "def X(i):\n",
    "    return qml.PauliX(i)\n",
    "\n",
    "def Z(i):\n",
    "    return qml.PauliZ(i)"
   ]
  },
  {
   "cell_type": "markdown",
   "metadata": {
    "jp-MarkdownHeadingCollapsed": true,
    "tags": []
   },
   "source": [
    "# Gound states"
   ]
  },
  {
   "cell_type": "code",
   "execution_count": 19,
   "metadata": {},
   "outputs": [],
   "source": [
    "def ground_state(j1, j2):\n",
    "    \n",
    "    hamiltonian = 0\n",
    "    for i in range(nqubits):\n",
    "        hamiltonian += Z(i)\n",
    "        hamiltonian -= j1 * X(i) @ X((i+1)%nqubits)\n",
    "        hamiltonian -= j2 * X((i-1)%nqubits) @ Z(i) @ X((i+1)%nqubits)\n",
    "    \n",
    "    _, eigvecs = np.linalg.eigh(qml.matrix(hamiltonian))\n",
    "    \n",
    "    return eigvecs[:,0]"
   ]
  },
  {
   "cell_type": "code",
   "execution_count": 20,
   "metadata": {},
   "outputs": [],
   "source": [
    "# Definir las coordenadas de los puntos de cada región\n",
    "region01_coords = np.array([(-2, 1), (2, 1), (4, 3), (4, 4), (-4, 4), (-4, 3)])    # Class 0\n",
    "region02_coords = np.array([(-3, -4), (0, -1), (3, -4)])                           # Class 0\n",
    "region1_coords = np.array([(0, -1), (3, -4), (4, -4), (4, 3)])                     # Class 1\n",
    "region2_coords = np.array([(0, -1), (-3, -4), (-4, -4), (-4, 3)])                  # Class 2\n",
    "region3_coords = np.array([(-2, 1), (2, 1), (0, -1)])                              # Class 3\n",
    "\n",
    "def labeling(x, y):\n",
    "\n",
    "    # Crear objetos Polygon para cada región\n",
    "    region01_poly = Polygon(region01_coords)\n",
    "    region02_poly = Polygon(region02_coords)\n",
    "    region1_poly = Polygon(region1_coords)\n",
    "    region2_poly = Polygon(region2_coords)\n",
    "    region3_poly = Polygon(region3_coords)\n",
    "    \n",
    "    \n",
    "    punto = Point(x, y)\n",
    "    if region01_poly.contains(punto):\n",
    "        return 0\n",
    "    elif region02_poly.contains(punto):\n",
    "        return 0\n",
    "    elif region1_poly.contains(punto):\n",
    "        return 1\n",
    "    elif region2_poly.contains(punto):\n",
    "        return 2\n",
    "    elif region3_poly.contains(punto):\n",
    "        return 3\n",
    "    else:\n",
    "        return None # Si el punto no está en ninguna región"
   ]
  },
  {
   "cell_type": "code",
   "execution_count": 21,
   "metadata": {},
   "outputs": [],
   "source": [
    "if not random:\n",
    "    rng = np.random.RandomState(0)\n",
    "\n",
    "if balanced_classes:\n",
    "    \n",
    "    npoints_class = num_data//4\n",
    "    num_data = 4*npoints_class\n",
    "    j_list = []\n",
    "    num_0, num_1, num_2, num_3 = 0, 0, 0, 0\n",
    "\n",
    "    while num_0 != npoints_class or num_1 != npoints_class or num_2 != npoints_class or num_3 != npoints_class:\n",
    "        j = rng.uniform(-4, 4, 2)\n",
    "        l = labeling(j[0], j[1])\n",
    "\n",
    "        if l==0 and num_0 < npoints_class:\n",
    "            num_0 += 1\n",
    "            j_list.append(j)\n",
    "        elif l==1 and num_1 < npoints_class:\n",
    "            num_1 += 1\n",
    "            j_list.append(j)\n",
    "        elif l==2 and num_2 < npoints_class:\n",
    "            num_2 += 1\n",
    "            j_list.append(j)\n",
    "        elif l==3 and num_3 < npoints_class:\n",
    "            num_3 += 1\n",
    "            j_list.append(j)\n",
    "\n",
    "    j_list = np.array(j_list)\n",
    "    \n",
    "else:\n",
    "    j_list = rng.uniform(-4, 4, (num_data,2))\n",
    "\n",
    "\n",
    "gs_list = []\n",
    "labels_list = []\n",
    "for i in range(num_data):\n",
    "    gs_list.append(ground_state(j_list[i,0], j_list[i,1]))\n",
    "    labels_list.append(labeling(j_list[i,0], j_list[i,1]))\n",
    "\n",
    "gs_list = np.array(gs_list)\n",
    "labels_list = np.array(labels_list)"
   ]
  },
  {
   "cell_type": "code",
   "execution_count": 22,
   "metadata": {},
   "outputs": [
    {
     "name": "stdout",
     "output_type": "stream",
     "text": [
      "(100, 16)\n"
     ]
    }
   ],
   "source": [
    "print(gs_list.shape)"
   ]
  },
  {
   "cell_type": "markdown",
   "metadata": {
    "tags": []
   },
   "source": [
    "# CNN"
   ]
  },
  {
   "cell_type": "code",
   "execution_count": 23,
   "metadata": {
    "jupyter": {
     "source_hidden": true
    },
    "tags": []
   },
   "outputs": [],
   "source": [
    "def convolutional_layer(q1, q2, weights):\n",
    "    qml.U3(wires=q1, theta=weights[0], phi=weights[1], delta=weights[2])\n",
    "    qml.U3(wires=q1, theta=weights[3], phi=weights[4], delta=weights[5])\n",
    "    qml.CNOT(wires=[q2, q1])\n",
    "    qml.RZ(wires=q1, phi=weights[6])\n",
    "    qml.RY(wires=q2, phi=weights[7])\n",
    "    qml.CNOT(wires=[q1, q2])\n",
    "    qml.RY(wires=q2, phi=weights[8])\n",
    "    qml.CNOT(wires=[q2, q1])\n",
    "    qml.U3(wires=q1, theta=weights[9], phi=weights[10], delta=weights[11])\n",
    "    qml.U3(wires=q1, theta=weights[12], phi=weights[13], delta=weights[14])\n",
    "\n",
    "def pooling_layer(q1, q2, weights):\n",
    "    qml.U3(wires=q1, theta=weights[0], phi=weights[1], delta=weights[2])\n",
    "    qml.U3(wires=q1, theta=weights[3], phi=weights[4], delta=weights[5])\n",
    "    qml.CNOT(wires=[q2, q1])\n",
    "    qml.RZ(wires=q1, phi=weights[6])\n",
    "    qml.RY(wires=q2, phi=weights[7])\n",
    "    qml.CNOT(wires=[q1, q2])\n",
    "    qml.RY(wires=q2, phi=weights[8])\n",
    "    qml.CNOT(wires=[q2, q1])\n",
    "    qml.U3(wires=q1, theta=weights[9], phi=weights[10], delta=weights[11])\n",
    "    qml.U3(wires=q1, theta=weights[12], phi=weights[13], delta=weights[14])"
   ]
  },
  {
   "cell_type": "code",
   "execution_count": 24,
   "metadata": {},
   "outputs": [],
   "source": [
    "def cnn_circuit(weights, state_ini):\n",
    "    \n",
    "    qubits = list(range(nqubits))\n",
    "    \n",
    "    qml.QubitStateVector(state_ini, wires=qubits)\n",
    "\n",
    "    for j in range(layers-1):\n",
    "        \n",
    "        len_qubits = len(qubits)\n",
    "        \n",
    "        for i in range(len_qubits//2):\n",
    "            convolutional_layer(qubits[2*i], qubits[(2*i+1)%len_qubits], weights[15*2*j:15*(2*j+1)])\n",
    "        \n",
    "        for i in range(len_qubits//2):\n",
    "            convolutional_layer(qubits[2*i+1], qubits[(2*i+2)%len_qubits], weights[15*2*j:15*(2*j+1)])\n",
    "            \n",
    "        for i in range(len_qubits//2):\n",
    "            pooling_layer(qubits[2*i], qubits[(2*i+1)%len_qubits], weights[15*(2*j+1):15*(2*j+2)])\n",
    "\n",
    "        qub = []\n",
    "        for i in range(len_qubits):\n",
    "            if i%2 == 1:\n",
    "                qub.append(qubits[i])\n",
    "                \n",
    "        qubits = qub\n",
    "    \n",
    "    convolutional_layer(qubits[0], qubits[1], weights[15*(2*layers-2):15*(2*layers-1)])\n",
    "    \n",
    "    return qml.expval(Z(qubits[0])), qml.expval(Z(qubits[1])), qml.expval(Z(qubits[0]) @ Z(qubits[1]))\n",
    "\n",
    "# dev_draw = qml.device(\"qiskit.aer\", wires=nqubits)\n",
    "dev = qml.device(\"default.qubit\", wires=nqubits)\n",
    "\n",
    "# cnn_draw = qml.QNode(cnn_circuit, dev_draw)\n",
    "cnn_circuit = qml.QNode(cnn_circuit, dev, interface=\"auto\", diff_method=\"best\")\n",
    "\n",
    "\n",
    "def cnn(weights, state_ini):\n",
    "    z0, z1, zz01 = cnn_circuit(weights, state_ini)\n",
    "\n",
    "    proj_00 = (1+zz01+z0+z1)/4\n",
    "    proj_01 = (1-zz01-z0+z1)/4\n",
    "    proj_10 = (1-zz01+z0-z1)/4\n",
    "    proj_11 = (1+zz01-z0-z1)/4\n",
    "\n",
    "    return pnp.array([proj_00, proj_01, proj_10, proj_11])"
   ]
  },
  {
   "cell_type": "code",
   "execution_count": 25,
   "metadata": {
    "jupyter": {
     "source_hidden": true
    },
    "tags": []
   },
   "outputs": [],
   "source": [
    "def variational_classifier(weights, bias, state_ini):\n",
    "    return cnn(weights, state_ini) + bias"
   ]
  },
  {
   "cell_type": "code",
   "execution_count": 26,
   "metadata": {
    "jupyter": {
     "source_hidden": true
    },
    "tags": []
   },
   "outputs": [
    {
     "name": "stdout",
     "output_type": "stream",
     "text": [
      "0: ─╭|Ψ⟩──U3(0.61,2.69,4.80)──U3(4.80,4.01,0.38)─╭X──RZ(2.25)─╭●───────────╭X──U3(3.20,3.98,5.86)\n",
      "1: ─├|Ψ⟩─────────────────────────────────────────╰●──RY(6.09)─╰X──RY(5.69)─╰●──U3(0.61,2.69,4.80)\n",
      "2: ─├|Ψ⟩──U3(0.61,2.69,4.80)──U3(4.80,4.01,0.38)─╭X──RZ(2.25)─╭●───────────╭X──U3(3.20,3.98,5.86)\n",
      "3: ─╰|Ψ⟩─────────────────────────────────────────╰●──RY(6.09)─╰X──RY(5.69)─╰●──U3(0.61,2.69,4.80)\n",
      "\n",
      "───U3(0.05,4.97,3.40)──────────────────────────────────────────────────────────────────────╭●\n",
      "───U3(4.80,4.01,0.38)─╭X──RZ(2.25)─╭●───────────╭X──U3(3.20,3.98,5.86)──U3(0.05,4.97,3.40)─│─\n",
      "───U3(0.05,4.97,3.40)─╰●──RY(6.09)─╰X──RY(5.69)─╰●─────────────────────────────────────────│─\n",
      "───U3(4.80,4.01,0.38)──────────────────────────────────────────────────────────────────────╰X\n",
      "\n",
      "───RY(6.09)─╭X──RY(5.69)─╭●──U3(4.09,5.74,3.92)──U3(2.07,1.15,4.64)─╭X──RZ(0.17)─╭●───────────╭X\n",
      "────────────│────────────│──────────────────────────────────────────╰●──RY(5.15)─╰X──RY(0.11)─╰●\n",
      "────────────│────────────│───U3(4.09,5.74,3.92)──U3(2.07,1.15,4.64)─╭X──RZ(0.17)─╭●───────────╭X\n",
      "───RZ(2.25)─╰●───────────╰X──U3(3.20,3.98,5.86)──U3(0.05,4.97,3.40)─╰●──RY(5.15)─╰X──RY(0.11)─╰●\n",
      "\n",
      "───U3(1.65,4.80,0.25)──U3(4.38,2.62,5.40)─────────────────────────────────────────────────\n",
      "───U3(1.09,3.50,2.29)──U3(1.03,3.04,3.50)─╭X──RZ(5.21)─╭●───────────╭X──U3(3.12,3.74,5.85)\n",
      "───U3(1.65,4.80,0.25)──U3(4.38,2.62,5.40)─│────────────│────────────│─────────────────────\n",
      "──────────────────────────────────────────╰●──RY(5.77)─╰X──RY(6.23)─╰●────────────────────\n",
      "\n",
      "──────────────────────┤            \n",
      "───U3(4.94,3.82,0.08)─┤  <Z> ╭<Z@Z>\n",
      "──────────────────────┤      │     \n",
      "──────────────────────┤  <Z> ╰<Z@Z>\n"
     ]
    }
   ],
   "source": [
    "weights = np.random.uniform(0, 2*np.pi, nweights)\n",
    "drawer = qml.draw(cnn_circuit)\n",
    "print(drawer(weights, gs_list[0]))\n",
    "\n",
    "# z0, z1, zz01 = cnn_draw(gs_list[0], weights)\n",
    "# print(z0, z1, zz01)\n",
    "# dev_draw._circuit.draw(output=\"mpl\")"
   ]
  },
  {
   "cell_type": "markdown",
   "metadata": {
    "jp-MarkdownHeadingCollapsed": true,
    "tags": []
   },
   "source": [
    "# Loss and accuracy"
   ]
  },
  {
   "cell_type": "code",
   "execution_count": 27,
   "metadata": {
    "tags": []
   },
   "outputs": [],
   "source": [
    "def log2_arraybox(abox):\n",
    "    return pnp._np.numpy_boxes.ArrayBox(value = np.log2(abox._value), trace = abox._trace, node = abox._node)\n",
    "\n",
    "\n",
    "def exp_arraybox(abox):\n",
    "    return pnp._np.numpy_boxes.ArrayBox(value = np.exp(abox._value), trace = abox._trace, node = abox._node)\n",
    "\n",
    "\n",
    "def single_loss(weights, bias, ground_state, label):\n",
    "    \n",
    "    proj = variational_classifier(weights, bias, ground_state)\n",
    "\n",
    "    if loss_type == \"projectors\":\n",
    "            cost = proj[label]\n",
    "\n",
    "    elif loss_type == \"cross-entropy\":\n",
    "        \n",
    "            if isinstance(proj[label], pnp._np.numpy_boxes.ArrayBox):\n",
    "                cost = -log2_arraybox(proj[label])\n",
    "            else:\n",
    "                cost = -np.log2(proj[label])\n",
    "    \n",
    "    return cost\n",
    "\n",
    "\n",
    "def loss(weights, bias, ground_states, labels):\n",
    "    \n",
    "    if num_cpus_train == 0:\n",
    "        cost = 0\n",
    "\n",
    "        for j in range(len(labels)):\n",
    "            cost += single_loss(weights, bias, ground_states[j], labels[j])\n",
    "    \n",
    "    else:\n",
    "        args = [[weights, bias, ground_states[j], labels[j]] for j in range(len(labels))]\n",
    "\n",
    "        with mp.Pool(num_cpus_train) as pool:\n",
    "            cost_arr = pool.starmap(single_loss, args)\n",
    "\n",
    "        cost = sum(cost_arr)\n",
    "    \n",
    "    return cost/len(labels)"
   ]
  },
  {
   "cell_type": "code",
   "execution_count": 28,
   "metadata": {
    "tags": []
   },
   "outputs": [
    {
     "name": "stdout",
     "output_type": "stream",
     "text": [
      "2.122393661989401\n"
     ]
    }
   ],
   "source": [
    "weights_init = pnp.random.uniform(0, max_weight_init, nweights, requires_grad=True)\n",
    "bias_init = pnp.array([0.0]*4, requires_grad=True)\n",
    "\n",
    "print(loss(weights_init, bias_init, gs_list, labels_list))"
   ]
  },
  {
   "cell_type": "code",
   "execution_count": 29,
   "metadata": {
    "tags": []
   },
   "outputs": [],
   "source": [
    "def pred_acc(weights, bias, ground_states, labels):\n",
    "    accuracy_data = 0\n",
    "    predictions = []\n",
    "\n",
    "    for j in range(len(labels)):\n",
    "        projectors = variational_classifier(weights, bias, ground_states[j])\n",
    "        \n",
    "        if loss_type == \"projectors\":\n",
    "            pred = np.argmin(projectors)\n",
    "        elif loss_type == \"cross-entropy\":\n",
    "            pred = np.argmax(projectors)\n",
    "\n",
    "        accuracy_data += 1 if pred == labels[j] else 0\n",
    "        predictions.append(pred)\n",
    "            \n",
    "    return predictions, accuracy_data*100/len(labels)"
   ]
  },
  {
   "cell_type": "markdown",
   "metadata": {},
   "source": [
    "# Training"
   ]
  },
  {
   "cell_type": "code",
   "execution_count": 30,
   "metadata": {
    "tags": []
   },
   "outputs": [
    {
     "name": "stdout",
     "output_type": "stream",
     "text": [
      "Iter:     1 | Loss: 2.0810409 | Acc train: 14.6666667 | Acc validation: 4.0000000\n",
      "Iter:     2 | Loss: 2.0821175 | Acc train: 14.6666667 | Acc validation: 4.0000000\n",
      "Iter:     3 | Loss: 2.0786950 | Acc train: 14.6666667 | Acc validation: 4.0000000\n",
      "Iter:     4 | Loss: 2.0796262 | Acc train: 14.6666667 | Acc validation: 4.0000000\n",
      "Iter:     5 | Loss: 2.0763551 | Acc train: 14.6666667 | Acc validation: 4.0000000\n",
      "Iter:     6 | Loss: 2.0636054 | Acc train: 14.6666667 | Acc validation: 4.0000000\n",
      "Iter:     7 | Loss: 2.0493451 | Acc train: 14.6666667 | Acc validation: 4.0000000\n",
      "Iter:     8 | Loss: 2.0408360 | Acc train: 14.6666667 | Acc validation: 8.0000000\n",
      "Iter:     9 | Loss: 2.0354897 | Acc train: 14.6666667 | Acc validation: 8.0000000\n",
      "Iter:    10 | Loss: 2.0349087 | Acc train: 14.6666667 | Acc validation: 8.0000000\n",
      "Iter:    11 | Loss: 2.0390476 | Acc train: 14.6666667 | Acc validation: 8.0000000\n",
      "Iter:    12 | Loss: 2.0474545 | Acc train: 17.3333333 | Acc validation: 8.0000000\n",
      "Iter:    13 | Loss: 2.0461035 | Acc train: 16.0000000 | Acc validation: 12.0000000\n",
      "Iter:    14 | Loss: 2.0419390 | Acc train: 17.3333333 | Acc validation: 12.0000000\n",
      "Iter:    15 | Loss: 2.0298685 | Acc train: 18.6666667 | Acc validation: 12.0000000\n",
      "Iter:    16 | Loss: 2.0272051 | Acc train: 20.0000000 | Acc validation: 12.0000000\n",
      "Iter:    17 | Loss: 2.0260863 | Acc train: 21.3333333 | Acc validation: 16.0000000\n",
      "Iter:    18 | Loss: 2.0099093 | Acc train: 25.3333333 | Acc validation: 20.0000000\n",
      "Iter:    19 | Loss: 1.9962410 | Acc train: 28.0000000 | Acc validation: 16.0000000\n",
      "Iter:    20 | Loss: 1.9800800 | Acc train: 28.0000000 | Acc validation: 16.0000000\n",
      "Iter:    21 | Loss: 1.9635852 | Acc train: 29.3333333 | Acc validation: 16.0000000\n",
      "Iter:    22 | Loss: 1.9488543 | Acc train: 30.6666667 | Acc validation: 20.0000000\n",
      "Iter:    23 | Loss: 1.9404960 | Acc train: 28.0000000 | Acc validation: 20.0000000\n",
      "Iter:    24 | Loss: 1.9414293 | Acc train: 32.0000000 | Acc validation: 16.0000000\n",
      "Iter:    25 | Loss: 1.9384108 | Acc train: 32.0000000 | Acc validation: 16.0000000\n",
      "Iter:    26 | Loss: 1.9208778 | Acc train: 33.3333333 | Acc validation: 16.0000000\n",
      "Iter:    27 | Loss: 1.9213773 | Acc train: 30.6666667 | Acc validation: 20.0000000\n",
      "Iter:    28 | Loss: 1.9141489 | Acc train: 29.3333333 | Acc validation: 20.0000000\n",
      "Iter:    29 | Loss: 1.9031218 | Acc train: 29.3333333 | Acc validation: 24.0000000\n",
      "Iter:    30 | Loss: 1.8755528 | Acc train: 32.0000000 | Acc validation: 24.0000000\n",
      "Iter:    31 | Loss: 1.8478998 | Acc train: 33.3333333 | Acc validation: 24.0000000\n",
      "Iter:    32 | Loss: 1.8278483 | Acc train: 33.3333333 | Acc validation: 24.0000000\n",
      "Iter:    33 | Loss: 1.8086288 | Acc train: 34.6666667 | Acc validation: 28.0000000\n",
      "Iter:    34 | Loss: 1.7917283 | Acc train: 36.0000000 | Acc validation: 28.0000000\n",
      "Iter:    35 | Loss: 1.7766889 | Acc train: 37.3333333 | Acc validation: 28.0000000\n",
      "Iter:    36 | Loss: 1.7615121 | Acc train: 38.6666667 | Acc validation: 28.0000000\n",
      "Iter:    37 | Loss: 1.7533375 | Acc train: 42.6666667 | Acc validation: 32.0000000\n",
      "Iter:    38 | Loss: 1.7517747 | Acc train: 42.6666667 | Acc validation: 32.0000000\n",
      "Iter:    39 | Loss: 1.7422824 | Acc train: 49.3333333 | Acc validation: 36.0000000\n",
      "Iter:    40 | Loss: 1.7063999 | Acc train: 49.3333333 | Acc validation: 36.0000000\n",
      "Iter:    41 | Loss: 1.6597497 | Acc train: 49.3333333 | Acc validation: 36.0000000\n",
      "Iter:    42 | Loss: 1.6006904 | Acc train: 45.3333333 | Acc validation: 32.0000000\n",
      "Iter:    43 | Loss: 1.5436002 | Acc train: 46.6666667 | Acc validation: 28.0000000\n",
      "Iter:    44 | Loss: 1.5057558 | Acc train: 37.3333333 | Acc validation: 28.0000000\n",
      "Iter:    45 | Loss: 1.4748587 | Acc train: 36.0000000 | Acc validation: 28.0000000\n",
      "Iter:    46 | Loss: 1.4530989 | Acc train: 42.6666667 | Acc validation: 32.0000000\n",
      "Iter:    47 | Loss: 1.4644633 | Acc train: 45.3333333 | Acc validation: 36.0000000\n",
      "Iter:    48 | Loss: 1.4610388 | Acc train: 45.3333333 | Acc validation: 36.0000000\n",
      "Iter:    49 | Loss: 1.4245993 | Acc train: 45.3333333 | Acc validation: 36.0000000\n",
      "Iter:    50 | Loss: 1.3869804 | Acc train: 41.3333333 | Acc validation: 36.0000000\n",
      "Iter:    51 | Loss: 1.3692567 | Acc train: 44.0000000 | Acc validation: 36.0000000\n",
      "Iter:    52 | Loss: 1.3539158 | Acc train: 41.3333333 | Acc validation: 36.0000000\n",
      "Iter:    53 | Loss: 1.3466241 | Acc train: 54.6666667 | Acc validation: 40.0000000\n",
      "Iter:    54 | Loss: 1.3428738 | Acc train: 54.6666667 | Acc validation: 44.0000000\n",
      "Iter:    55 | Loss: 1.3362338 | Acc train: 53.3333333 | Acc validation: 44.0000000\n",
      "Iter:    56 | Loss: 1.3417864 | Acc train: 54.6666667 | Acc validation: 44.0000000\n",
      "Iter:    57 | Loss: 1.3423338 | Acc train: 54.6666667 | Acc validation: 44.0000000\n",
      "Iter:    58 | Loss: 1.3367219 | Acc train: 53.3333333 | Acc validation: 44.0000000\n",
      "Iter:    59 | Loss: 1.3328507 | Acc train: 54.6666667 | Acc validation: 48.0000000\n",
      "Iter:    60 | Loss: 1.3302888 | Acc train: 54.6666667 | Acc validation: 48.0000000\n",
      "Iter:    61 | Loss: 1.3192141 | Acc train: 53.3333333 | Acc validation: 44.0000000\n",
      "Iter:    62 | Loss: 1.3005422 | Acc train: 53.3333333 | Acc validation: 44.0000000\n",
      "Iter:    63 | Loss: 1.2852058 | Acc train: 53.3333333 | Acc validation: 44.0000000\n",
      "Iter:    64 | Loss: 1.2602455 | Acc train: 53.3333333 | Acc validation: 44.0000000\n",
      "Iter:    65 | Loss: 1.2410262 | Acc train: 53.3333333 | Acc validation: 48.0000000\n",
      "Iter:    66 | Loss: 1.2303117 | Acc train: 57.3333333 | Acc validation: 48.0000000\n",
      "Iter:    67 | Loss: 1.2209331 | Acc train: 57.3333333 | Acc validation: 48.0000000\n",
      "Iter:    68 | Loss: 1.2117644 | Acc train: 56.0000000 | Acc validation: 48.0000000\n",
      "Iter:    69 | Loss: 1.2024788 | Acc train: 54.6666667 | Acc validation: 48.0000000\n",
      "Iter:    70 | Loss: 1.1968618 | Acc train: 53.3333333 | Acc validation: 44.0000000\n",
      "Iter:    71 | Loss: 1.2022756 | Acc train: 54.6666667 | Acc validation: 44.0000000\n",
      "Iter:    72 | Loss: 1.2196323 | Acc train: 56.0000000 | Acc validation: 48.0000000\n",
      "Iter:    73 | Loss: 1.2493018 | Acc train: 58.6666667 | Acc validation: 48.0000000\n",
      "Iter:    74 | Loss: 1.2807327 | Acc train: 57.3333333 | Acc validation: 48.0000000\n",
      "Iter:    75 | Loss: 1.3055791 | Acc train: 57.3333333 | Acc validation: 48.0000000\n",
      "Iter:    76 | Loss: 1.3167392 | Acc train: 56.0000000 | Acc validation: 48.0000000\n",
      "Iter:    77 | Loss: 1.3118460 | Acc train: 56.0000000 | Acc validation: 48.0000000\n",
      "Iter:    78 | Loss: 1.2867236 | Acc train: 56.0000000 | Acc validation: 52.0000000\n",
      "Iter:    79 | Loss: 1.2526164 | Acc train: 57.3333333 | Acc validation: 56.0000000\n",
      "Iter:    80 | Loss: 1.2257528 | Acc train: 58.6666667 | Acc validation: 60.0000000\n",
      "Iter:    81 | Loss: 1.2060924 | Acc train: 58.6666667 | Acc validation: 56.0000000\n",
      "Iter:    82 | Loss: 1.1967198 | Acc train: 60.0000000 | Acc validation: 52.0000000\n",
      "Iter:    83 | Loss: 1.1924675 | Acc train: 60.0000000 | Acc validation: 52.0000000\n",
      "Iter:    84 | Loss: 1.1841979 | Acc train: 60.0000000 | Acc validation: 52.0000000\n",
      "Iter:    85 | Loss: 1.1767458 | Acc train: 60.0000000 | Acc validation: 60.0000000\n",
      "Iter:    86 | Loss: 1.1759742 | Acc train: 61.3333333 | Acc validation: 64.0000000\n",
      "Iter:    87 | Loss: 1.1827169 | Acc train: 62.6666667 | Acc validation: 64.0000000\n",
      "Iter:    88 | Loss: 1.1944862 | Acc train: 62.6666667 | Acc validation: 64.0000000\n",
      "Iter:    89 | Loss: 1.2079078 | Acc train: 60.0000000 | Acc validation: 64.0000000\n",
      "Iter:    90 | Loss: 1.2161471 | Acc train: 61.3333333 | Acc validation: 64.0000000\n",
      "Iter:    91 | Loss: 1.2101922 | Acc train: 61.3333333 | Acc validation: 64.0000000\n",
      "Iter:    92 | Loss: 1.2016197 | Acc train: 61.3333333 | Acc validation: 64.0000000\n",
      "Iter:    93 | Loss: 1.1909690 | Acc train: 60.0000000 | Acc validation: 68.0000000\n",
      "Iter:    94 | Loss: 1.1800567 | Acc train: 60.0000000 | Acc validation: 68.0000000\n",
      "Iter:    95 | Loss: 1.1778405 | Acc train: 62.6666667 | Acc validation: 68.0000000\n",
      "Iter:    96 | Loss: 1.1773401 | Acc train: 62.6666667 | Acc validation: 68.0000000\n",
      "Iter:    97 | Loss: 1.1828134 | Acc train: 62.6666667 | Acc validation: 64.0000000\n",
      "Iter:    98 | Loss: 1.1879151 | Acc train: 62.6666667 | Acc validation: 68.0000000\n",
      "Iter:    99 | Loss: 1.1853186 | Acc train: 62.6666667 | Acc validation: 68.0000000\n",
      "Iter:   100 | Loss: 1.1765692 | Acc train: 61.3333333 | Acc validation: 68.0000000\n",
      "Iter:   101 | Loss: 1.1597041 | Acc train: 62.6666667 | Acc validation: 68.0000000\n",
      "Iter:   102 | Loss: 1.1398636 | Acc train: 62.6666667 | Acc validation: 68.0000000\n",
      "Iter:   103 | Loss: 1.1234976 | Acc train: 65.3333333 | Acc validation: 68.0000000\n",
      "Iter:   104 | Loss: 1.1135140 | Acc train: 64.0000000 | Acc validation: 68.0000000\n",
      "Iter:   105 | Loss: 1.1003509 | Acc train: 64.0000000 | Acc validation: 68.0000000\n",
      "Iter:   106 | Loss: 1.0905337 | Acc train: 65.3333333 | Acc validation: 72.0000000\n",
      "Iter:   107 | Loss: 1.0919864 | Acc train: 65.3333333 | Acc validation: 68.0000000\n",
      "Iter:   108 | Loss: 1.0966026 | Acc train: 65.3333333 | Acc validation: 68.0000000\n",
      "Iter:   109 | Loss: 1.1019490 | Acc train: 65.3333333 | Acc validation: 68.0000000\n",
      "Iter:   110 | Loss: 1.1011998 | Acc train: 66.6666667 | Acc validation: 64.0000000\n",
      "Iter:   111 | Loss: 1.0987980 | Acc train: 66.6666667 | Acc validation: 64.0000000\n",
      "Iter:   112 | Loss: 1.0981516 | Acc train: 66.6666667 | Acc validation: 64.0000000\n",
      "Iter:   113 | Loss: 1.0940163 | Acc train: 68.0000000 | Acc validation: 64.0000000\n",
      "Iter:   114 | Loss: 1.0847876 | Acc train: 68.0000000 | Acc validation: 64.0000000\n",
      "Iter:   115 | Loss: 1.0742547 | Acc train: 68.0000000 | Acc validation: 68.0000000\n",
      "Iter:   116 | Loss: 1.0698207 | Acc train: 66.6666667 | Acc validation: 68.0000000\n",
      "Iter:   117 | Loss: 1.0712799 | Acc train: 66.6666667 | Acc validation: 72.0000000\n",
      "Iter:   118 | Loss: 1.0749193 | Acc train: 66.6666667 | Acc validation: 72.0000000\n",
      "Iter:   119 | Loss: 1.0784576 | Acc train: 69.3333333 | Acc validation: 72.0000000\n",
      "Iter:   120 | Loss: 1.0765716 | Acc train: 70.6666667 | Acc validation: 72.0000000\n",
      "Iter:   121 | Loss: 1.0754411 | Acc train: 68.0000000 | Acc validation: 64.0000000\n",
      "Iter:   122 | Loss: 1.0750736 | Acc train: 66.6666667 | Acc validation: 64.0000000\n",
      "Iter:   123 | Loss: 1.0765755 | Acc train: 66.6666667 | Acc validation: 68.0000000\n",
      "Iter:   124 | Loss: 1.0739205 | Acc train: 66.6666667 | Acc validation: 68.0000000\n",
      "Iter:   125 | Loss: 1.0683663 | Acc train: 68.0000000 | Acc validation: 68.0000000\n",
      "Iter:   126 | Loss: 1.0642058 | Acc train: 70.6666667 | Acc validation: 64.0000000\n",
      "Iter:   127 | Loss: 1.0634232 | Acc train: 70.6666667 | Acc validation: 68.0000000\n",
      "Iter:   128 | Loss: 1.0624411 | Acc train: 70.6666667 | Acc validation: 68.0000000\n",
      "Iter:   129 | Loss: 1.0645452 | Acc train: 72.0000000 | Acc validation: 68.0000000\n",
      "Iter:   130 | Loss: 1.0577173 | Acc train: 72.0000000 | Acc validation: 72.0000000\n",
      "Iter:   131 | Loss: 1.0527765 | Acc train: 72.0000000 | Acc validation: 72.0000000\n",
      "Iter:   132 | Loss: 1.0548186 | Acc train: 72.0000000 | Acc validation: 72.0000000\n",
      "Iter:   133 | Loss: 1.0655323 | Acc train: 72.0000000 | Acc validation: 72.0000000\n",
      "Iter:   134 | Loss: 1.0730544 | Acc train: 72.0000000 | Acc validation: 72.0000000\n",
      "Iter:   135 | Loss: 1.0839311 | Acc train: 70.6666667 | Acc validation: 72.0000000\n",
      "Iter:   136 | Loss: 1.0874235 | Acc train: 70.6666667 | Acc validation: 72.0000000\n",
      "Iter:   137 | Loss: 1.0819743 | Acc train: 69.3333333 | Acc validation: 72.0000000\n",
      "Iter:   138 | Loss: 1.0797375 | Acc train: 70.6666667 | Acc validation: 72.0000000\n",
      "Iter:   139 | Loss: 1.0821808 | Acc train: 70.6666667 | Acc validation: 72.0000000\n",
      "Iter:   140 | Loss: 1.0928917 | Acc train: 70.6666667 | Acc validation: 72.0000000\n",
      "Iter:   141 | Loss: 1.1023897 | Acc train: 72.0000000 | Acc validation: 72.0000000\n",
      "Iter:   142 | Loss: 1.1092881 | Acc train: 72.0000000 | Acc validation: 72.0000000\n",
      "Iter:   143 | Loss: 1.1103858 | Acc train: 72.0000000 | Acc validation: 72.0000000\n",
      "Iter:   144 | Loss: 1.1203564 | Acc train: 72.0000000 | Acc validation: 76.0000000\n",
      "Iter:   145 | Loss: 1.1200806 | Acc train: 73.3333333 | Acc validation: 72.0000000\n",
      "Iter:   146 | Loss: 1.1152020 | Acc train: 73.3333333 | Acc validation: 72.0000000\n",
      "Iter:   147 | Loss: 1.1055741 | Acc train: 73.3333333 | Acc validation: 76.0000000\n",
      "Iter:   148 | Loss: 1.1009986 | Acc train: 73.3333333 | Acc validation: 76.0000000\n",
      "Iter:   149 | Loss: 1.0995056 | Acc train: 73.3333333 | Acc validation: 80.0000000\n",
      "Iter:   150 | Loss: 1.0938299 | Acc train: 73.3333333 | Acc validation: 80.0000000\n",
      "--- 899.4802443981171 seconds ---\n"
     ]
    }
   ],
   "source": [
    "if not random:\n",
    "    rng = np.random.RandomState(0)\n",
    "\n",
    "# Splitting the data into training and validation\n",
    "index = rng.permutation(range(num_data))\n",
    "\n",
    "gs_train = gs_list[index[:num_train]]\n",
    "labels_train = labels_list[index[:num_train]]\n",
    "gs_val = gs_list[index[num_train:]]\n",
    "labels_val = labels_list[index[num_train:]]\n",
    "\n",
    "# We need these later for plotting\n",
    "j_train = j_list[index[:num_train]]\n",
    "j_val = j_list[index[num_train:]]\n",
    "\n",
    "# weights and bias initialization\n",
    "weights_init = pnp.random.uniform(0, max_weight_init, nweights, requires_grad=True)\n",
    "\n",
    "if with_bias:\n",
    "    bias_init = pnp.array([0.0]*4, requires_grad=True)\n",
    "else:\n",
    "    bias_init = np.array([0.0]*4)\n",
    "\n",
    "# train the variational classifier\n",
    "if optimizer == \"Nesterov\":\n",
    "    opt = NesterovMomentumOptimizer(stepsize)\n",
    "elif optimizer == \"Adam\":\n",
    "    opt = qml.AdamOptimizer(stepsize)\n",
    "    \n",
    "    \n",
    "weights = []\n",
    "bias = []\n",
    "losses = []\n",
    "pred_train_arr = []\n",
    "pred_val_arr = []\n",
    "acc_train_arr = []\n",
    "acc_val_arr = []\n",
    "\n",
    "w = weights_init\n",
    "b = bias_init\n",
    "\n",
    "start_time = time.time()\n",
    "\n",
    "for it in range(num_iters):\n",
    "\n",
    "    batch_index = np.random.randint(0, num_train, (batch_size,))\n",
    "    gs_train_batch = gs_train[batch_index]\n",
    "    labels_train_batch = labels_train[batch_index]\n",
    "    \n",
    "    # Update the weights by one optimizer step\n",
    "    if num_cpus_batch == 0:\n",
    "        w, b, _, _ = opt.step(loss, w, b, gs_train_batch, labels_train_batch)\n",
    "        \n",
    "    else:\n",
    "        args = [[single_loss, w, b, gs_train_batch[j], labels_train_batch[j]] for j in range(len(labels_train_batch))]\n",
    "\n",
    "        with mp.Pool(num_cpus_batch) as pool:\n",
    "            w, b, _, _ = zip(*pool.starmap(opt.step, args))\n",
    "\n",
    "        w = sum(w)/len(w)\n",
    "        b = sum(b)/len(b)\n",
    "    \n",
    "    weights.append(w)\n",
    "    bias.append(b)\n",
    "    \n",
    "    # Compute predictions and accuracy on train and validation set\n",
    "    pred_train, acc_train = pred_acc(w, b, gs_train, labels_train)\n",
    "    pred_val, acc_val = pred_acc(w, b, gs_val, labels_val) if len(labels_val)>0 else [0, 0]\n",
    "\n",
    "    # Save prediction for later plotting\n",
    "    pred_train_arr.append(pred_train)\n",
    "    pred_val_arr.append(pred_val)\n",
    "    acc_train_arr.append(acc_train)\n",
    "    acc_val_arr.append(acc_val)\n",
    "\n",
    "    l = loss(w, b, gs_train, labels_train)\n",
    "    losses.append(l)\n",
    "\n",
    "    print(\n",
    "        \"Iter: {:5d} | Loss: {:0.7f} | Acc train: {:0.7f} | Acc validation: {:0.7f}\"\n",
    "        \"\".format(it+1, l, acc_train, acc_val)\n",
    "    )\n",
    "\n",
    "print(f\"--- {time.time() - start_time} seconds ---\")"
   ]
  },
  {
   "cell_type": "markdown",
   "metadata": {},
   "source": [
    "# Plotting"
   ]
  },
  {
   "cell_type": "code",
   "execution_count": 31,
   "metadata": {
    "tags": []
   },
   "outputs": [
    {
     "data": {
      "image/png": "[encoded data removed]",
      "text/plain": [
       "<Figure size 640x480 with 2 Axes>"
      ]
     },
     "metadata": {},
     "output_type": "display_data"
    }
   ],
   "source": [
    "iterations = range(1, len(acc_train_arr)+1)\n",
    "\n",
    "fig, ax1 = plt.subplots()\n",
    "\n",
    "color1 = 'darkred'\n",
    "ax1.set_xlabel('Iterations')\n",
    "ax1.set_ylabel('Accuracy %', color=color1)\n",
    "ax1.plot(iterations, acc_train_arr, label=\"Training\", color=color1)\n",
    "ax1.plot(iterations, acc_val_arr, '-.', label=\"Validation\", color=color1)\n",
    "ax1.tick_params(axis='y', labelcolor=color1)\n",
    "ax1.set_ylim(0,100)\n",
    "\n",
    "ax2 = ax1.twinx()  # instantiate a second axes that shares the same x-axis\n",
    "\n",
    "color2 = 'darkblue'\n",
    "ax2.set_ylabel('Loss', color=color2)  # we already handled the x-label with ax1\n",
    "ax2.plot(iterations, losses, label=\"Loss\", color=color2)\n",
    "ax2.tick_params(axis='y', labelcolor=color2)\n",
    "# ax2.set_ylim(bottom=0)\n",
    "\n",
    "fig.tight_layout()  # otherwise the right y-label is slightly clipped\n",
    "# plt.legend()\n",
    "plt.title(\"Accuracy and Loss\")\n",
    "plt.show()"
   ]
  },
  {
   "cell_type": "code",
   "execution_count": 32,
   "metadata": {},
   "outputs": [
    {
     "data": {
      "image/png": "[encoded data removed]",
      "text/plain": [
       "<Figure size 640x480 with 1 Axes>"
      ]
     },
     "metadata": {},
     "output_type": "display_data"
    }
   ],
   "source": [
    "plot_iter = it+1 #it+1\n",
    "\n",
    "# define regions coordinates\n",
    "x01, y01 = region01_coords[:,0], region01_coords[:,1]\n",
    "x02, y02 = region02_coords[:,0], region02_coords[:,1]\n",
    "x1, y1 = region1_coords[:,0], region1_coords[:,1]\n",
    "x2, y2 = region2_coords[:,0], region2_coords[:,1]\n",
    "x3, y3 = region3_coords[:,0], region3_coords[:,1]\n",
    "\n",
    "# plt.figure(figsize=(8, 8))\n",
    "\n",
    "# put the regions into the plot\n",
    "plt.fill(x01, y01, facecolor='lightskyblue')    # class 0\n",
    "plt.fill(x02, y02, facecolor='lightskyblue')    # class 0\n",
    "plt.fill(x1, y1, facecolor='sandybrown')        # class 1\n",
    "plt.fill(x2, y2, facecolor='salmon')            # class 2\n",
    "plt.fill(x3, y3, facecolor='lightgreen')        # class 3\n",
    "\n",
    "pred_train_plot = np.array(pred_train_arr[plot_iter-1])\n",
    "pred_val_plot = np.array(pred_val_arr[plot_iter-1])\n",
    "\n",
    "colors = [\"b\", \"orange\", \"r\", \"g\"]\n",
    "\n",
    "# plot datapoints\n",
    "for i in range(4):\n",
    "    plt.scatter(\n",
    "        j_train[:, 0][pred_train_plot==i],\n",
    "        j_train[:, 1][pred_train_plot==i],\n",
    "        c=colors[i],\n",
    "        marker=\"o\",\n",
    "        edgecolors=\"k\",\n",
    "        label=f\"class {i+1} train\",\n",
    "    )\n",
    "    plt.scatter(\n",
    "        j_val[:, 0][pred_val_plot==i],\n",
    "        j_val[:, 1][pred_val_plot==i],\n",
    "        c=colors[i],\n",
    "        marker=\"^\",\n",
    "        edgecolors=\"k\",\n",
    "        label=f\"class {i+1} validation\",\n",
    "    )\n",
    "\n",
    "\n",
    "# plt.legend()\n",
    "plt.axis('square')\n",
    "plt.show()\n"
   ]
  },
  {
   "cell_type": "code",
   "execution_count": 33,
   "metadata": {},
   "outputs": [
    {
     "name": "stdout",
     "output_type": "stream",
     "text": [
      "8\n",
      "10 --- 1.9211015701293945 seconds ---\n",
      "11 --- 1.9262948036193848 seconds ---\n",
      "12 --- 1.9227664470672607 seconds ---\n",
      "13 --- 1.9113264083862305 seconds ---\n",
      "14 --- 1.9134016036987305 seconds ---\n",
      "15 --- 1.9384329319000244 seconds ---\n",
      "16 --- 2.104572296142578 seconds ---\n",
      "17 --- 1.9292986392974854 seconds ---\n",
      "18 --- 1.9134390354156494 seconds ---\n",
      "19 --- 1.9169166088104248 seconds ---\n"
     ]
    }
   ],
   "source": [
    "print(mp.cpu_count())\n",
    "\n",
    "for i in range(10, 20, 1):\n",
    "    num_cpus = i\n",
    "    start_time = time.time()\n",
    "    loss(w, b, gs_train, labels_train)\n",
    "    print(f\"{i} --- {time.time() - start_time} seconds ---\")"
   ]
  }
 ],
 "metadata": {
  "kernelspec": {
   "display_name": "Python 3 (ipykernel)",
   "language": "python",
   "name": "python3"
  },
  "language_info": {
   "codemirror_mode": {
    "name": "ipython",
    "version": 3
   },
   "file_extension": ".py",
   "mimetype": "text/x-python",
   "name": "python",
   "nbconvert_exporter": "python",
   "pygments_lexer": "ipython3",
   "version": "3.8.10"
  }
 },
 "nbformat": 4,
 "nbformat_minor": 4
}
